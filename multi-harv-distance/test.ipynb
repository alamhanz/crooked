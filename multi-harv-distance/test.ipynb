{
 "cells": [
  {
   "cell_type": "code",
   "execution_count": 2,
   "metadata": {},
   "outputs": [],
   "source": [
    "import pandas as pd\n",
    "import polars as pl\n",
    "import fun\n",
    "import random\n",
    "import numpy as np"
   ]
  },
  {
   "cell_type": "markdown",
   "metadata": {},
   "source": [
    "## Data Prep"
   ]
  },
  {
   "cell_type": "code",
   "execution_count": 3,
   "metadata": {},
   "outputs": [
    {
     "data": {
      "text/plain": [
       "0.0018216018825589703"
      ]
     },
     "execution_count": 3,
     "metadata": {},
     "output_type": "execute_result"
    }
   ],
   "source": [
    "random.random()*(random.random()*0.1)"
   ]
  },
  {
   "cell_type": "code",
   "execution_count": 4,
   "metadata": {},
   "outputs": [],
   "source": [
    "customer_lat = -6.2124234\n",
    "customer_long = 106.816634\n",
    "\n",
    "coord_center = (customer_long, customer_lat)\n",
    "\n",
    "list_array_lat = []\n",
    "list_array_long = []\n",
    "\n",
    "coord_list = []\n",
    "\n",
    "for i in range(120):\n",
    "    N = random.randint(0,80)\n",
    "    lat1 = []\n",
    "    long1 = []\n",
    "    for i in range(N):\n",
    "        diff1 = random.random()*(random.random()*0.1)\n",
    "        diff2 = random.random()*(random.random()*0.1)\n",
    "\n",
    "        lat1.append(customer_lat+diff1)\n",
    "        long1.append(customer_long+diff2)\n",
    "    list_array_lat.append(lat1)\n",
    "    list_array_long.append(long1)\n",
    "\n",
    "for i in range(500):\n",
    "    diff1 = random.random()*(random.random()*0.1)\n",
    "    diff2 = random.random()*(random.random()*0.1)\n",
    "\n",
    "    coord_list.append((customer_long+diff1, customer_lat+diff2))\n",
    "\n",
    "\n"
   ]
  },
  {
   "cell_type": "code",
   "execution_count": 5,
   "metadata": {},
   "outputs": [
    {
     "data": {
      "text/html": [
       "<div>\n",
       "<style scoped>\n",
       "    .dataframe tbody tr th:only-of-type {\n",
       "        vertical-align: middle;\n",
       "    }\n",
       "\n",
       "    .dataframe tbody tr th {\n",
       "        vertical-align: top;\n",
       "    }\n",
       "\n",
       "    .dataframe thead th {\n",
       "        text-align: right;\n",
       "    }\n",
       "</style>\n",
       "<table border=\"1\" class=\"dataframe\">\n",
       "  <thead>\n",
       "    <tr style=\"text-align: right;\">\n",
       "      <th></th>\n",
       "      <th>long_array</th>\n",
       "      <th>lat_array</th>\n",
       "    </tr>\n",
       "  </thead>\n",
       "  <tbody>\n",
       "    <tr>\n",
       "      <th>0</th>\n",
       "      <td>[106.83900612358858, 106.89387114663545, 106.8...</td>\n",
       "      <td>[-6.146572947484051, -6.20730176565767, -6.181...</td>\n",
       "    </tr>\n",
       "    <tr>\n",
       "      <th>1</th>\n",
       "      <td>[106.83622276808306, 106.82060183757042, 106.8...</td>\n",
       "      <td>[-6.194823170734209, -6.205283760977219, -6.18...</td>\n",
       "    </tr>\n",
       "    <tr>\n",
       "      <th>2</th>\n",
       "      <td>[106.83463289676739, 106.83503781094517, 106.8...</td>\n",
       "      <td>[-6.212110750549248, -6.17764282651976, -6.164...</td>\n",
       "    </tr>\n",
       "    <tr>\n",
       "      <th>3</th>\n",
       "      <td>[106.84756071376047, 106.89653405206164, 106.8...</td>\n",
       "      <td>[-6.20716146392818, -6.18448988662932, -6.1991...</td>\n",
       "    </tr>\n",
       "    <tr>\n",
       "      <th>4</th>\n",
       "      <td>[106.82178988918174, 106.86278594505235, 106.8...</td>\n",
       "      <td>[-6.174723990378365, -6.195635983286176, -6.16...</td>\n",
       "    </tr>\n",
       "  </tbody>\n",
       "</table>\n",
       "</div>"
      ],
      "text/plain": [
       "                                          long_array   \n",
       "0  [106.83900612358858, 106.89387114663545, 106.8...  \\\n",
       "1  [106.83622276808306, 106.82060183757042, 106.8...   \n",
       "2  [106.83463289676739, 106.83503781094517, 106.8...   \n",
       "3  [106.84756071376047, 106.89653405206164, 106.8...   \n",
       "4  [106.82178988918174, 106.86278594505235, 106.8...   \n",
       "\n",
       "                                           lat_array  \n",
       "0  [-6.146572947484051, -6.20730176565767, -6.181...  \n",
       "1  [-6.194823170734209, -6.205283760977219, -6.18...  \n",
       "2  [-6.212110750549248, -6.17764282651976, -6.164...  \n",
       "3  [-6.20716146392818, -6.18448988662932, -6.1991...  \n",
       "4  [-6.174723990378365, -6.195635983286176, -6.16...  "
      ]
     },
     "execution_count": 5,
     "metadata": {},
     "output_type": "execute_result"
    }
   ],
   "source": [
    "df = pd.DataFrame()\n",
    "df['long_array'] = list_array_long\n",
    "df['lat_array'] = list_array_lat\n",
    "df.head()"
   ]
  },
  {
   "cell_type": "code",
   "execution_count": null,
   "metadata": {},
   "outputs": [],
   "source": []
  },
  {
   "cell_type": "code",
   "execution_count": null,
   "metadata": {},
   "outputs": [],
   "source": []
  },
  {
   "cell_type": "markdown",
   "metadata": {},
   "source": [
    "## Optimize Harvendistance"
   ]
  },
  {
   "cell_type": "code",
   "execution_count": 5,
   "metadata": {},
   "outputs": [],
   "source": [
    "coord_neigh = np.array(coord_list[30:31])"
   ]
  },
  {
   "cell_type": "code",
   "execution_count": 6,
   "metadata": {},
   "outputs": [
    {
     "data": {
      "text/plain": [
       "True"
      ]
     },
     "execution_count": 6,
     "metadata": {},
     "output_type": "execute_result"
    }
   ],
   "source": [
    "fun.haversine_dist1(coord_neigh[0],coord_center) == np.round(fun.haversine_dist2(coord_neigh[:,0], coord_neigh[:,1], coord_center),5)[0]"
   ]
  },
  {
   "cell_type": "code",
   "execution_count": null,
   "metadata": {},
   "outputs": [],
   "source": []
  },
  {
   "cell_type": "code",
   "execution_count": 7,
   "metadata": {},
   "outputs": [],
   "source": [
    "coord_neigh_list1 = np.array(coord_list)\n",
    "coord_neigh_list2 = np.array(coord_list)"
   ]
  },
  {
   "cell_type": "code",
   "execution_count": 8,
   "metadata": {},
   "outputs": [
    {
     "name": "stdout",
     "output_type": "stream",
     "text": [
      "1.57 ms ± 25.8 µs per loop (mean ± std. dev. of 10 runs, 500 loops each)\n"
     ]
    }
   ],
   "source": [
    "%%timeit -n 500 -r 10\n",
    "dist_list1 = []\n",
    "for coord_n in coord_neigh_list1:\n",
    "    xx = fun.haversine_dist1(coord_n,coord_center)\n",
    "    dist_list1.append(xx)\n",
    "# dist_list1"
   ]
  },
  {
   "cell_type": "code",
   "execution_count": 12,
   "metadata": {},
   "outputs": [
    {
     "name": "stdout",
     "output_type": "stream",
     "text": [
      "30.7 µs ± 1.17 µs per loop (mean ± std. dev. of 10 runs, 500 loops each)\n"
     ]
    }
   ],
   "source": [
    "%%timeit -n 500 -r 10\n",
    "dist_list2 = np.round(fun.haversine_dist2(coord_neigh_list2[:,0], coord_neigh_list2[:,1], coord_center),5)"
   ]
  },
  {
   "cell_type": "code",
   "execution_count": 13,
   "metadata": {},
   "outputs": [],
   "source": [
    "# dist_list1[:10]"
   ]
  },
  {
   "cell_type": "code",
   "execution_count": 14,
   "metadata": {},
   "outputs": [],
   "source": [
    "# dist_list2[:10]"
   ]
  },
  {
   "cell_type": "code",
   "execution_count": null,
   "metadata": {},
   "outputs": [],
   "source": []
  },
  {
   "cell_type": "code",
   "execution_count": 15,
   "metadata": {},
   "outputs": [],
   "source": [
    "# np.radians([-6.12])"
   ]
  },
  {
   "cell_type": "code",
   "execution_count": 16,
   "metadata": {},
   "outputs": [],
   "source": [
    "# %%timeit -n 10000 -r 10\n",
    "# fun.haversine_dist1(coord_neigh,coord_center)\n",
    "\n",
    "# %%timeit -n 10000 -r 10\n",
    "# fun.haversine_dist2(coord_neigh,coord_center)"
   ]
  },
  {
   "cell_type": "code",
   "execution_count": null,
   "metadata": {},
   "outputs": [],
   "source": []
  },
  {
   "cell_type": "markdown",
   "metadata": {},
   "source": [
    "## Optimize the loop"
   ]
  },
  {
   "cell_type": "code",
   "execution_count": 6,
   "metadata": {},
   "outputs": [
    {
     "name": "stdout",
     "output_type": "stream",
     "text": [
      "15.3 ms ± 139 µs per loop (mean ± std. dev. of 7 runs, 100 loops each)\n"
     ]
    }
   ],
   "source": [
    "%%timeit\n",
    "distance_summary = [fun.haversine_distance_summary(\n",
    "                    zip(df['long_array'].loc[i], df['lat_array'].loc[i]),\n",
    "                    coord2 = coord_center) \n",
    "                for i in range(len(df))]\n",
    "\n",
    "df['min_dist_to_other_dest'] = [one_row[0] for one_row in distance_summary]\n",
    "df['avg_dist_to_other_dest'] = [one_row[1] for one_row in distance_summary]"
   ]
  },
  {
   "cell_type": "code",
   "execution_count": 7,
   "metadata": {},
   "outputs": [
    {
     "name": "stdout",
     "output_type": "stream",
     "text": [
      "4.87 ms ± 218 µs per loop (mean ± std. dev. of 7 runs, 1 loop each)\n"
     ]
    }
   ],
   "source": [
    "%%timeit\n",
    "df['hdist_summary'] = df.apply(lambda x: fun.hdist_summary(x['long_array'], x['lat_array'], coord_center), axis=1)\n",
    "df[['min_dist_to_other_dest2', 'avg_dist_to_other_dest2']] = pd.DataFrame(df['hdist_summary'].tolist(), index=df.index)"
   ]
  },
  {
   "cell_type": "code",
   "execution_count": 10,
   "metadata": {},
   "outputs": [],
   "source": [
    "# df"
   ]
  },
  {
   "cell_type": "code",
   "execution_count": null,
   "metadata": {},
   "outputs": [],
   "source": []
  }
 ],
 "metadata": {
  "kernelspec": {
   "display_name": "dfs",
   "language": "python",
   "name": "dfs"
  },
  "language_info": {
   "codemirror_mode": {
    "name": "ipython",
    "version": 3
   },
   "file_extension": ".py",
   "mimetype": "text/x-python",
   "name": "python",
   "nbconvert_exporter": "python",
   "pygments_lexer": "ipython3",
   "version": "3.8.10"
  },
  "orig_nbformat": 4
 },
 "nbformat": 4,
 "nbformat_minor": 2
}
