{
 "cells": [
  {
   "cell_type": "code",
   "execution_count": 1,
   "metadata": {},
   "outputs": [],
   "source": [
    "import sys"
   ]
  },
  {
   "cell_type": "code",
   "execution_count": 6,
   "metadata": {},
   "outputs": [],
   "source": [
    "\n",
    "def solution(A,K):\n",
    "    width = max(3,len(str(max(A))))\n",
    "    n_col = min(K,len(A))\n",
    "    n_row,n_col_last_row = divmod(len(A),n_col)\n",
    "\n",
    "    base_edges = '+'+('-'*width)\n",
    "    top = (base_edges*n_col)+'+'\n",
    "\n",
    "    A_string = [str(i) for i in A]\n",
    "    A_in_array = ['|'+' '*(width-len(i))+i for i in A_string]\n",
    "\n",
    "    if (n_row,n_col_last_row) == (1,0):\n",
    "        array = top + '\\n' + ''.join(A_in_array) + '|\\n' + top \n",
    "    else:\n",
    "        array = top + '\\n'\n",
    "\n",
    "        for i in range(n_row):\n",
    "            A_temp = A_in_array[n_col*i:n_col*(i+1)]\n",
    "            array_mid = ''.join(A_temp)+ '|\\n'+ top + '\\n'\n",
    "            array += array_mid\n",
    "        \n",
    "        if n_col_last_row>0:\n",
    "            bottom = (base_edges*n_col_last_row)+'+'\n",
    "            A_temp = A_in_array[-n_col_last_row:]\n",
    "            array_mid = ''.join(A_temp)+ '|\\n'+ bottom + '\\n'\n",
    "            array += array_mid\n",
    "\n",
    "    # sys.stdout.write(array)\n",
    "    print(array)\n",
    "    # return array\n"
   ]
  },
  {
   "cell_type": "code",
   "execution_count": 17,
   "metadata": {},
   "outputs": [
    {
     "data": {
      "text/plain": [
       "[11863, 10533, 590, 9465, 4577, 222, 11630, 3858, 15, 4167, 3597, 5540]"
      ]
     },
     "execution_count": 17,
     "metadata": {},
     "output_type": "execute_result"
    }
   ],
   "source": [
    "import random\n",
    "A1 = [random.randint(2,12000) for i in range(12)]\n",
    "K1 = 5\n",
    "A1"
   ]
  },
  {
   "cell_type": "code",
   "execution_count": 18,
   "metadata": {},
   "outputs": [],
   "source": [
    "# %%timeit\n",
    "# solution(A1,K1)"
   ]
  },
  {
   "cell_type": "code",
   "execution_count": 21,
   "metadata": {},
   "outputs": [
    {
     "name": "stdout",
     "output_type": "stream",
     "text": [
      "+-----+-----+-----+-----+-----+-----+-----+-----+-----+\n",
      "|11863|10533|  590| 9465| 4577|  222|11630| 3858|   15|\n",
      "+-----+-----+-----+-----+-----+-----+-----+-----+-----+\n",
      "| 4167| 3597| 5540|\n",
      "+-----+-----+-----+\n",
      "\n"
     ]
    }
   ],
   "source": [
    "solution(A1,9)"
   ]
  },
  {
   "cell_type": "code",
   "execution_count": 15,
   "metadata": {},
   "outputs": [
    {
     "name": "stdout",
     "output_type": "stream",
     "text": [
      "+---+---+\n",
      "| 44| 59|\n",
      "+---+---+\n",
      "| 62| 85|\n",
      "+---+---+\n",
      "| 50| 68|\n",
      "+---+---+\n",
      "| 76| 12|\n",
      "+---+---+\n",
      "\n"
     ]
    }
   ],
   "source": [
    "solution(A1,2)"
   ]
  },
  {
   "cell_type": "code",
   "execution_count": 16,
   "metadata": {},
   "outputs": [
    {
     "name": "stdout",
     "output_type": "stream",
     "text": [
      "+---+\n",
      "| 44|\n",
      "+---+\n",
      "| 59|\n",
      "+---+\n",
      "| 62|\n",
      "+---+\n",
      "| 85|\n",
      "+---+\n",
      "| 50|\n",
      "+---+\n",
      "| 68|\n",
      "+---+\n",
      "| 76|\n",
      "+---+\n",
      "| 12|\n",
      "+---+\n",
      "\n"
     ]
    }
   ],
   "source": [
    "solution(A1,1)"
   ]
  },
  {
   "cell_type": "code",
   "execution_count": null,
   "metadata": {},
   "outputs": [],
   "source": []
  }
 ],
 "metadata": {
  "kernelspec": {
   "display_name": "dfs",
   "language": "python",
   "name": "dfs"
  },
  "language_info": {
   "codemirror_mode": {
    "name": "ipython",
    "version": 3
   },
   "file_extension": ".py",
   "mimetype": "text/x-python",
   "name": "python",
   "nbconvert_exporter": "python",
   "pygments_lexer": "ipython3",
   "version": "3.8.10"
  },
  "orig_nbformat": 4
 },
 "nbformat": 4,
 "nbformat_minor": 2
}
