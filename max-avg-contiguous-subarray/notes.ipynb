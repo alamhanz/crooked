{
 "cells": [
  {
   "cell_type": "code",
   "execution_count": 25,
   "metadata": {},
   "outputs": [],
   "source": [
    "nn = [9,7,3,5,6,2,0,8,1,9]\n",
    "k = 6"
   ]
  },
  {
   "cell_type": "code",
   "execution_count": 40,
   "metadata": {},
   "outputs": [
    {
     "data": {
      "text/plain": [
       "5.333333333333333"
      ]
     },
     "execution_count": 40,
     "metadata": {},
     "output_type": "execute_result"
    }
   ],
   "source": [
    "sum(nn[:k])/k"
   ]
  },
  {
   "cell_type": "code",
   "execution_count": 38,
   "metadata": {},
   "outputs": [
    {
     "name": "stdout",
     "output_type": "stream",
     "text": [
      "9 0\n",
      "res: 23\n",
      "[7, 3, 5, 6, 2, 0]\n",
      "supposed 23\n",
      "avg: 3.8333333333333335\n",
      "-----\n",
      "7 8\n",
      "res: 24\n",
      "[3, 5, 6, 2, 0, 8]\n",
      "supposed 24\n",
      "avg: 4.0\n",
      "-----\n",
      "3 1\n",
      "res: 22\n",
      "[5, 6, 2, 0, 8, 1]\n",
      "supposed 22\n",
      "avg: 3.6666666666666665\n",
      "-----\n",
      "5 9\n",
      "res: 26\n",
      "[6, 2, 0, 8, 1, 9]\n",
      "supposed 26\n",
      "avg: 4.333333333333333\n",
      "-----\n"
     ]
    }
   ],
   "source": [
    "total = sum(nn[:k])\n",
    "nnk = len(nn)\n",
    "for i in range(nnk - k):\n",
    "    total = total - nn[i] + nn[k + i]\n",
    "    \n",
    "    \n",
    "    print(nn[i],nn[k+i])\n",
    "    print('res:',total)\n",
    "    print(nn[i+1:k+i+1])\n",
    "    print('supposed', sum(nn[i+1:k+i+1]))\n",
    "    print('avg:',total/k)\n",
    "    print('-'*5)"
   ]
  },
  {
   "cell_type": "code",
   "execution_count": 35,
   "metadata": {},
   "outputs": [
    {
     "data": {
      "text/plain": [
       "24"
      ]
     },
     "execution_count": 35,
     "metadata": {},
     "output_type": "execute_result"
    }
   ],
   "source": [
    "23 - 7 +8"
   ]
  },
  {
   "cell_type": "code",
   "execution_count": null,
   "metadata": {},
   "outputs": [],
   "source": []
  }
 ],
 "metadata": {
  "kernelspec": {
   "display_name": "dfs",
   "language": "python",
   "name": "dfs"
  },
  "language_info": {
   "codemirror_mode": {
    "name": "ipython",
    "version": 3
   },
   "file_extension": ".py",
   "mimetype": "text/x-python",
   "name": "python",
   "nbconvert_exporter": "python",
   "pygments_lexer": "ipython3",
   "version": "3.8.10"
  },
  "orig_nbformat": 4
 },
 "nbformat": 4,
 "nbformat_minor": 2
}
